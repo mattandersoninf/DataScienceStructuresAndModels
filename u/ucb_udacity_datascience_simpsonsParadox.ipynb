{
 "cells": [
  {
   "cell_type": "code",
   "execution_count": 1,
   "metadata": {},
   "outputs": [
    {
     "data": {
      "text/html": [
       "<iframe id=\"igraph\" scrolling=\"no\" style=\"border:none;\" seamless=\"seamless\" src=\"https://plot.ly/~mattandersoninf/3.embed\" height=\"800px\" width=\"100%\"></iframe>"
      ],
      "text/plain": [
       "<plotly.tools.PlotlyDisplay object>"
      ]
     },
     "execution_count": 1,
     "metadata": {},
     "output_type": "execute_result"
    }
   ],
   "source": [
    "# import data via a url and create a dataframe to easily handle data for analysis and graphing\n",
    "import pandas as pd\n",
    "# python library and website to allow me to publish datasets\n",
    "# and into files for visualization\n",
    "import plotly\n",
    "# sidenote: matplotlib can generate data visuals but since I set up my plotly account, might as well use it\n",
    "# also, more balanced learning curve\n",
    "import plotly.plotly as py\n",
    "plotly.tools.set_credentials_file(username='mattandersoninf', api_key='qcMjCMXF0U2eDZcHFl0X')\n",
    "# library for different data visuals like graphs, pie charts, histograms, etc.\n",
    "import plotly.graph_objs as go\n",
    "import plotly.figure_factory as ff\n",
    "# test the udacity/intro_to_data_science/lesson_8_simpsons_paradox\n",
    "# create a dataframe using te information collected by the csv\n",
    "dataframe = pd.read_csv(\"http://www.calvin.edu/~stob/data/Berkeley.csv\")\n",
    "# generate the data into a table format to pe interpreted by pyplot\n",
    "table = ff.create_table(dataframe)\n",
    "# display table and make it file in your pyplot account\n",
    "py.iplot(table, filename='u_simpsons_paradox')"
   ]
  },
  {
   "cell_type": "code",
   "execution_count": 4,
   "metadata": {},
   "outputs": [
    {
     "name": "stdout",
     "output_type": "stream",
     "text": [
      "0     Admitted\n",
      "1     Rejected\n",
      "2     Admitted\n",
      "3     Rejected\n",
      "4     Admitted\n",
      "5     Rejected\n",
      "6     Admitted\n",
      "7     Rejected\n",
      "8     Admitted\n",
      "9     Rejected\n",
      "10    Admitted\n",
      "11    Rejected\n",
      "12    Admitted\n",
      "13    Rejected\n",
      "14    Admitted\n",
      "15    Rejected\n",
      "16    Admitted\n",
      "17    Rejected\n",
      "18    Admitted\n",
      "19    Rejected\n",
      "20    Admitted\n",
      "21    Rejected\n",
      "22    Admitted\n",
      "23    Rejected\n",
      "Name: Admit, dtype: object\n"
     ]
    }
   ],
   "source": [
    "avr = dataframe.Admit\n",
    "print(avr)"
   ]
  },
  {
   "cell_type": "code",
   "execution_count": null,
   "metadata": {
    "collapsed": true
   },
   "outputs": [],
   "source": []
  }
 ],
 "metadata": {
  "kernelspec": {
   "display_name": "Python 3",
   "language": "python",
   "name": "python3"
  },
  "language_info": {
   "codemirror_mode": {
    "name": "ipython",
    "version": 3
   },
   "file_extension": ".py",
   "mimetype": "text/x-python",
   "name": "python",
   "nbconvert_exporter": "python",
   "pygments_lexer": "ipython3",
   "version": "3.6.1"
  }
 },
 "nbformat": 4,
 "nbformat_minor": 2
}
