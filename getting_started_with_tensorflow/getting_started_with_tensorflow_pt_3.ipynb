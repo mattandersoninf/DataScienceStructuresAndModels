{
 "cells": [
  {
   "cell_type": "code",
   "execution_count": 1,
   "metadata": {
    "scrolled": true
   },
   "outputs": [
    {
     "name": "stdout",
     "output_type": "stream",
     "text": [
      "INFO:tensorflow:Using default config.\n",
      "WARNING:tensorflow:Using temporary folder as model directory: C:\\Users\\MATTAN~1\\AppData\\Local\\Temp\\tmprx78ai62\n",
      "INFO:tensorflow:Using config: {'_model_dir': 'C:\\\\Users\\\\MATTAN~1\\\\AppData\\\\Local\\\\Temp\\\\tmprx78ai62', '_tf_random_seed': 1, '_save_summary_steps': 100, '_save_checkpoints_secs': 600, '_save_checkpoints_steps': None, '_session_config': None, '_keep_checkpoint_max': 5, '_keep_checkpoint_every_n_hours': 10000, '_log_step_count_steps': 100}\n",
      "INFO:tensorflow:Create CheckpointSaverHook.\n",
      "INFO:tensorflow:Saving checkpoints for 1 into C:\\Users\\MATTAN~1\\AppData\\Local\\Temp\\tmprx78ai62\\model.ckpt.\n",
      "INFO:tensorflow:loss = 14.0, step = 1\n",
      "INFO:tensorflow:global_step/sec: 943.344\n",
      "INFO:tensorflow:loss = 0.0821688, step = 101 (0.108 sec)\n",
      "INFO:tensorflow:global_step/sec: 1123.53\n",
      "INFO:tensorflow:loss = 0.0213302, step = 201 (0.088 sec)\n",
      "INFO:tensorflow:global_step/sec: 1075.21\n",
      "INFO:tensorflow:loss = 0.0108325, step = 301 (0.093 sec)\n",
      "INFO:tensorflow:global_step/sec: 1149.36\n",
      "INFO:tensorflow:loss = 0.00454581, step = 401 (0.088 sec)\n",
      "INFO:tensorflow:global_step/sec: 1111.04\n",
      "INFO:tensorflow:loss = 0.000381162, step = 501 (0.091 sec)\n",
      "INFO:tensorflow:global_step/sec: 1111.05\n",
      "INFO:tensorflow:loss = 6.5403e-05, step = 601 (0.088 sec)\n",
      "INFO:tensorflow:global_step/sec: 1136.3\n",
      "INFO:tensorflow:loss = 6.11319e-06, step = 701 (0.090 sec)\n",
      "INFO:tensorflow:global_step/sec: 990.042\n",
      "INFO:tensorflow:loss = 2.05351e-06, step = 801 (0.101 sec)\n",
      "INFO:tensorflow:global_step/sec: 1020.35\n",
      "INFO:tensorflow:loss = 4.81503e-07, step = 901 (0.097 sec)\n",
      "INFO:tensorflow:Saving checkpoints for 1000 into C:\\Users\\MATTAN~1\\AppData\\Local\\Temp\\tmprx78ai62\\model.ckpt.\n",
      "INFO:tensorflow:Loss for final step: 4.62041e-08.\n",
      "INFO:tensorflow:Starting evaluation at 2017-09-19-22:53:39\n",
      "INFO:tensorflow:Restoring parameters from C:\\Users\\MATTAN~1\\AppData\\Local\\Temp\\tmprx78ai62\\model.ckpt-1000\n",
      "INFO:tensorflow:Finished evaluation at 2017-09-19-22:53:40\n",
      "INFO:tensorflow:Saving dict for global step 1000: average_loss = 2.27804e-08, global_step = 1000, loss = 9.11217e-08\n",
      "INFO:tensorflow:Starting evaluation at 2017-09-19-22:53:41\n",
      "INFO:tensorflow:Restoring parameters from C:\\Users\\MATTAN~1\\AppData\\Local\\Temp\\tmprx78ai62\\model.ckpt-1000\n",
      "INFO:tensorflow:Finished evaluation at 2017-09-19-22:53:42\n",
      "INFO:tensorflow:Saving dict for global step 1000: average_loss = 0.00253788, global_step = 1000, loss = 0.0101515\n",
      "train metrics: {'average_loss': 2.2780416e-08, 'loss': 9.1121663e-08, 'global_step': 1000}\n",
      "eval metrics: {'average_loss': 0.0025378764, 'loss': 0.010151505, 'global_step': 1000}\n"
     ]
    }
   ],
   "source": [
    "# tf.estimator sample\n",
    "# estimator is for simplifying mechanics os machine learning\n",
    "# for running and training loops and managing data sets\n",
    "\n",
    "import tensorflow as tf\n",
    "# NumPy is often used to load, manipulate and preprocess data.\n",
    "import numpy as np\n",
    "\n",
    "# Declare list of features. We only have one numeric feature. There are many\n",
    "# other types of columns that are more complicated and useful.\n",
    "feature_columns = [tf.feature_column.numeric_column(\"x\", shape=[1])]\n",
    "\n",
    "# An estimator is the front end to invoke training (fitting) and evaluation\n",
    "# (inference). There are many predefined types like linear regression,\n",
    "# linear classification, and many neural network classifiers and regressors.\n",
    "# The following code provides an estimator that does linear regression.\n",
    "estimator = tf.estimator.LinearRegressor(feature_columns=feature_columns)\n",
    "\n",
    "# TensorFlow provides many helper methods to read and set up data sets.\n",
    "# Here we use two data sets: one for training and one for evaluation\n",
    "# We have to tell the function how many batches\n",
    "# of data (num_epochs) we want and how big each batch should be.\n",
    "x_train = np.array([1., 2., 3., 4.])\n",
    "y_train = np.array([0., -1., -2., -3.])\n",
    "x_eval = np.array([2., 5., 8., 1.])\n",
    "y_eval = np.array([-1.01, -4.1, -7, 0.])\n",
    "input_fn = tf.estimator.inputs.numpy_input_fn(\n",
    "    {\"x\": x_train}, y_train, batch_size=4, num_epochs=None, shuffle=True)\n",
    "train_input_fn = tf.estimator.inputs.numpy_input_fn(\n",
    "    {\"x\": x_train}, y_train, batch_size=4, num_epochs=1000, shuffle=False)\n",
    "eval_input_fn = tf.estimator.inputs.numpy_input_fn(\n",
    "    {\"x\": x_eval}, y_eval, batch_size=4, num_epochs=1000, shuffle=False)\n",
    "\n",
    "# We can invoke 1000 training steps by invoking the  method and passing the\n",
    "# training data set.\n",
    "estimator.train(input_fn=input_fn, steps=1000)\n",
    "\n",
    "# Here we evaluate how well our model did.\n",
    "train_metrics = estimator.evaluate(input_fn=train_input_fn)\n",
    "eval_metrics = estimator.evaluate(input_fn=eval_input_fn)\n",
    "print(\"train metrics: %r\"% train_metrics)\n",
    "print(\"eval metrics: %r\"% eval_metrics)"
   ]
  },
  {
   "cell_type": "code",
   "execution_count": null,
   "metadata": {
    "collapsed": true
   },
   "outputs": [],
   "source": []
  }
 ],
 "metadata": {
  "kernelspec": {
   "display_name": "Python 3",
   "language": "python",
   "name": "python3"
  },
  "language_info": {
   "codemirror_mode": {
    "name": "ipython",
    "version": 3
   },
   "file_extension": ".py",
   "mimetype": "text/x-python",
   "name": "python",
   "nbconvert_exporter": "python",
   "pygments_lexer": "ipython3",
   "version": "3.6.1"
  }
 },
 "nbformat": 4,
 "nbformat_minor": 2
}
