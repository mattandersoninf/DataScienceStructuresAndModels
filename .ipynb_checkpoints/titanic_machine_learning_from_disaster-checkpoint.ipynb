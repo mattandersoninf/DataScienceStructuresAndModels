{
 "cells": [
  {
   "cell_type": "code",
   "execution_count": 1,
   "metadata": {},
   "outputs": [],
   "source": [
    "import tensorflow as tf\n",
    "import numpy as np\n",
    "import pandas as pd\n",
    "import matplotlib.pyplot as plt"
   ]
  },
  {
   "cell_type": "code",
   "execution_count": null,
   "metadata": {
    "collapsed": true
   },
   "outputs": [],
   "source": [
    "# load data\n",
    "train_data = pd.read_csv(r\"../TensorflowDesigns/train.csv\")\n",
    "test_data = pd.read(r\"../TensorflowDesign/test.csv\")"
   ]
  },
  {
   "cell_type": "code",
   "execution_count": null,
   "metadata": {
    "collapsed": true
   },
   "outputs": [],
   "source": [
    "# display train data\n",
    "train_data"
   ]
  },
  {
   "cell_type": "code",
   "execution_count": null,
   "metadata": {
    "collapsed": true
   },
   "outputs": [],
   "source": [
    "# display test data\n",
    "test-data"
   ]
  },
  {
   "cell_type": "code",
   "execution_count": null,
   "metadata": {
    "collapsed": true
   },
   "outputs": [],
   "source": [
    "# Feature Engineering\n",
    "# Preprocessing class provides normalization methods for data sets\n",
    "# Without normalized datasets, the machine learning estimator may\n",
    "# become less accurate\n",
    "from sklearn.preprocessing import Imputer\n",
    "\n",
    "#function for normalizing the data columns\n",
    "def nan_padding(data, columns):\n",
    "    for column in columns:\n",
    "        imputer = Imputer()\n",
    "        data[column]=imputer.fit_transform(data[column].vales.reshape(-1,1))\n",
    "        return data\n",
    "    \n",
    "nan_columns = [\"Age\",\"SibSp\",\"Parch\"]\n",
    "\n",
    "train_data = nan_padding(train_data, nan_columns)\n",
    "test_data = nan_padding(test_data, nan_columns)"
   ]
  },
  {
   "cell_type": "code",
   "execution_count": null,
   "metadata": {
    "collapsed": true
   },
   "outputs": [],
   "source": [
    "train_data"
   ]
  },
  {
   "cell_type": "code",
   "execution_count": null,
   "metadata": {
    "collapsed": true
   },
   "outputs": [],
   "source": [
    "# save PassengerId for evaluation\n",
    "test_passenger_id = test_data[\"PassengerId\"]"
   ]
  },
  {
   "cell_type": "code",
   "execution_count": null,
   "metadata": {
    "collapsed": true
   },
   "outputs": [],
   "source": [
    "def drop_not_concerned(data,columns):\n",
    "    return data.drop(columns, axis = 1)\n",
    "\n",
    "not_concerned_columns = [\"PassesngerId\", \"Name\", \"Ticket\", \"Fare\", \"Cabin\", \"Embarked\"]\n",
    "train_data = drop_not_concerned(train_data, not_concerned_columns)\n",
    "test_data = drop_not_concerned(test_data, not_concerned_columns)"
   ]
  },
  {
   "cell_type": "code",
   "execution_count": null,
   "metadata": {
    "collapsed": true
   },
   "outputs": [],
   "source": [
    "train_data.head()"
   ]
  },
  {
   "cell_type": "code",
   "execution_count": null,
   "metadata": {
    "collapsed": true
   },
   "outputs": [],
   "source": [
    "# link the columns together using the concatenate function\n",
    "def dummy_data(data, columns):\n",
    "    for column in columns:\n",
    "        data = pd.concat([data, pd.get_dummies(data[column],prefix=column)], axis =1)\n",
    "        data = data.drop(column, axis=1)\n",
    "    return data\n",
    "\n",
    "dummy_columns = [\"Pclass\"]\n",
    "train_data = dummy_data(train_data, dummy_columns)\n",
    "test_data = dummy_data(test_data, dummy_columns)"
   ]
  },
  {
   "cell_type": "code",
   "execution_count": null,
   "metadata": {
    "collapsed": true
   },
   "outputs": [],
   "source": [
    "test_data.head()"
   ]
  },
  {
   "cell_type": "code",
   "execution_count": null,
   "metadata": {
    "collapsed": true
   },
   "outputs": [],
   "source": [
    "from sklearn.preprocessing import LabelEncoder\n",
    "def sex_to_int(data):\n",
    "    le = LabelEncoder()\n",
    "    le.fit([\"male\",\"female\"])\n",
    "    data[\"Sex\"]=le.transform(data[\"Sex\"]) \n",
    "    return data\n",
    "\n",
    "train_data = sex_to_int(train_data)\n",
    "test_data = sex_to_int(test_data)\n",
    "train_data.head()"
   ]
  }
 ],
 "metadata": {
  "kernelspec": {
   "display_name": "Python 3",
   "language": "python",
   "name": "python3"
  },
  "language_info": {
   "codemirror_mode": {
    "name": "ipython",
    "version": 3
   },
   "file_extension": ".py",
   "mimetype": "text/x-python",
   "name": "python",
   "nbconvert_exporter": "python",
   "pygments_lexer": "ipython3",
   "version": "3.6.1"
  }
 },
 "nbformat": 4,
 "nbformat_minor": 2
}
